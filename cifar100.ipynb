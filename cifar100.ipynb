{
 "cells": [
  {
   "cell_type": "code",
   "execution_count": 1,
   "metadata": {},
   "outputs": [
    {
     "name": "stderr",
     "output_type": "stream",
     "text": [
      "Using TensorFlow backend.\n"
     ]
    }
   ],
   "source": [
    "from keras.datasets import cifar100"
   ]
  },
  {
   "cell_type": "code",
   "execution_count": 2,
   "metadata": {},
   "outputs": [],
   "source": [
    "from keras.utils import to_categorical\n",
    "from keras import layers\n",
    "from keras import models\n",
    "from keras.layers import Conv2D, MaxPooling2D, Input, GlobalAveragePooling2D, ZeroPadding2D\n",
    "from keras.layers import Add, Flatten, AveragePooling2D, Dense, Dropout, Activation\n",
    "from keras.layers import BatchNormalization\n",
    "from keras import optimizers\n",
    "from keras.models import Model, Sequential\n",
    "from keras.regularizers import l2\n",
    "import time"
   ]
  },
  {
   "cell_type": "code",
   "execution_count": 3,
   "metadata": {},
   "outputs": [],
   "source": [
    "from keras.callbacks import Callback, LearningRateScheduler, TensorBoard, ModelCheckpoint\n",
    "from keras.preprocessing.image import ImageDataGenerator\n",
    "\n",
    "from keras import backend as K\n",
    "import sys\n",
    "import os\n",
    "import numpy as np\n",
    "from keras.callbacks import LearningRateScheduler, ReduceLROnPlateau, CSVLogger, EarlyStopping"
   ]
  },
  {
   "cell_type": "code",
   "execution_count": 4,
   "metadata": {},
   "outputs": [],
   "source": [
    "(x_train, y_train), (x_test, y_test) = cifar100.load_data(label_mode='fine')"
   ]
  },
  {
   "cell_type": "code",
   "execution_count": 5,
   "metadata": {},
   "outputs": [],
   "source": [
    "def res_layer(input_layer, n=16, strides=1):\n",
    "    L1 = Conv2D(n, (3, 3), padding='same', strides=strides)(input_layer)\n",
    "    L1 = BatchNormalization()(L1)\n",
    "    L1 = Activation('relu')(L1)\n",
    "    L2 = Conv2D(n, (3, 3), padding='same')(L1)\n",
    "    L2 = BatchNormalization()(L2)\n",
    "    L2 = Activation('relu')(L2)\n",
    "    L3 = Conv2D(n, (3, 3), padding='same')(L2)\n",
    "    L3 = BatchNormalization()(L3)\n",
    "    L4 = Add()([L3, L1])\n",
    "    L4 = Activation('relu')(L4)\n",
    "    return L4"
   ]
  },
  {
   "cell_type": "code",
   "execution_count": 6,
   "metadata": {},
   "outputs": [],
   "source": [
    "def lr_schedule(epoch):\n",
    "    lr = 0.001\n",
    "    if epoch > 180:\n",
    "        lr *= 0.5e-3\n",
    "    elif epoch > 160:\n",
    "        lr *= 1e-3\n",
    "    elif epoch > 120:\n",
    "        lr *= 1e-2\n",
    "    elif epoch > 80:\n",
    "        lr *= 1e-1\n",
    "    return lr"
   ]
  },
  {
   "cell_type": "code",
   "execution_count": 7,
   "metadata": {},
   "outputs": [],
   "source": [
    "batch_size = 32\n",
    "nb_epoch = 250\n",
    "lr_reducer = ReduceLROnPlateau(factor=np.sqrt(0.1), cooldown=0, patience=5, min_lr=0.5e-6)\n",
    "early_stopper = EarlyStopping(min_delta=0.001, patience=10)\n",
    "csv_logger = CSVLogger('resnet18_cifar100.csv')"
   ]
  },
  {
   "cell_type": "code",
   "execution_count": 8,
   "metadata": {},
   "outputs": [
    {
     "name": "stdout",
     "output_type": "stream",
     "text": [
      "WARNING:tensorflow:From /Library/Frameworks/Python.framework/Versions/3.7/lib/python3.7/site-packages/tensorflow/python/framework/op_def_library.py:263: colocate_with (from tensorflow.python.framework.ops) is deprecated and will be removed in a future version.\n",
      "Instructions for updating:\n",
      "Colocations handled automatically by placer.\n",
      "WARNING:tensorflow:From /Library/Frameworks/Python.framework/Versions/3.7/lib/python3.7/site-packages/keras/backend/tensorflow_backend.py:1064: calling reduce_prod_v1 (from tensorflow.python.ops.math_ops) with keep_dims is deprecated and will be removed in a future version.\n",
      "Instructions for updating:\n",
      "keep_dims is deprecated, use keepdims instead\n"
     ]
    }
   ],
   "source": [
    "main_input = Input(shape=(32,32,3))\n",
    "L2 = res_layer(main_input, 16)\n",
    "L2 = res_layer(L2, 16)\n",
    "L2 = res_layer(L2, 32, strides=2)\n",
    "L2 = res_layer(L2, 32)\n",
    "L2 = res_layer(L2, 64, strides=2)\n",
    "L2 = res_layer(L2, 64)\n",
    "L3 = AveragePooling2D()(L2)\n",
    "L3 = Flatten()(L3)\n",
    "L4 = Dense(100,activation='softmax')(L3)"
   ]
  },
  {
   "cell_type": "code",
   "execution_count": 9,
   "metadata": {
    "scrolled": false
   },
   "outputs": [
    {
     "name": "stdout",
     "output_type": "stream",
     "text": [
      "_________________________________________________________________\n",
      "Layer (type)                 Output Shape              Param #   \n",
      "=================================================================\n",
      "input_1 (InputLayer)         (None, 32, 32, 3)         0         \n",
      "_________________________________________________________________\n",
      "conv2d_1 (Conv2D)            (None, 32, 32, 16)        448       \n",
      "_________________________________________________________________\n",
      "batch_normalization_1 (Batch (None, 32, 32, 16)        64        \n",
      "_________________________________________________________________\n",
      "activation_1 (Activation)    (None, 32, 32, 16)        0         \n",
      "_________________________________________________________________\n",
      "conv2d_2 (Conv2D)            (None, 32, 32, 16)        2320      \n",
      "_________________________________________________________________\n",
      "batch_normalization_2 (Batch (None, 32, 32, 16)        64        \n",
      "_________________________________________________________________\n",
      "activation_2 (Activation)    (None, 32, 32, 16)        0         \n",
      "_________________________________________________________________\n",
      "conv2d_3 (Conv2D)            (None, 32, 32, 16)        2320      \n",
      "_________________________________________________________________\n",
      "batch_normalization_3 (Batch (None, 32, 32, 16)        64        \n",
      "_________________________________________________________________\n",
      "add_1 (Add)                  (None, 32, 32, 16)        0         \n",
      "_________________________________________________________________\n",
      "activation_3 (Activation)    (None, 32, 32, 16)        0         \n",
      "_________________________________________________________________\n",
      "conv2d_4 (Conv2D)            (None, 32, 32, 16)        2320      \n",
      "_________________________________________________________________\n",
      "batch_normalization_4 (Batch (None, 32, 32, 16)        64        \n",
      "_________________________________________________________________\n",
      "activation_4 (Activation)    (None, 32, 32, 16)        0         \n",
      "_________________________________________________________________\n",
      "conv2d_5 (Conv2D)            (None, 32, 32, 16)        2320      \n",
      "_________________________________________________________________\n",
      "batch_normalization_5 (Batch (None, 32, 32, 16)        64        \n",
      "_________________________________________________________________\n",
      "activation_5 (Activation)    (None, 32, 32, 16)        0         \n",
      "_________________________________________________________________\n",
      "conv2d_6 (Conv2D)            (None, 32, 32, 16)        2320      \n",
      "_________________________________________________________________\n",
      "batch_normalization_6 (Batch (None, 32, 32, 16)        64        \n",
      "_________________________________________________________________\n",
      "add_2 (Add)                  (None, 32, 32, 16)        0         \n",
      "_________________________________________________________________\n",
      "activation_6 (Activation)    (None, 32, 32, 16)        0         \n",
      "_________________________________________________________________\n",
      "conv2d_7 (Conv2D)            (None, 16, 16, 32)        4640      \n",
      "_________________________________________________________________\n",
      "batch_normalization_7 (Batch (None, 16, 16, 32)        128       \n",
      "_________________________________________________________________\n",
      "activation_7 (Activation)    (None, 16, 16, 32)        0         \n",
      "_________________________________________________________________\n",
      "conv2d_8 (Conv2D)            (None, 16, 16, 32)        9248      \n",
      "_________________________________________________________________\n",
      "batch_normalization_8 (Batch (None, 16, 16, 32)        128       \n",
      "_________________________________________________________________\n",
      "activation_8 (Activation)    (None, 16, 16, 32)        0         \n",
      "_________________________________________________________________\n",
      "conv2d_9 (Conv2D)            (None, 16, 16, 32)        9248      \n",
      "_________________________________________________________________\n",
      "batch_normalization_9 (Batch (None, 16, 16, 32)        128       \n",
      "_________________________________________________________________\n",
      "add_3 (Add)                  (None, 16, 16, 32)        0         \n",
      "_________________________________________________________________\n",
      "activation_9 (Activation)    (None, 16, 16, 32)        0         \n",
      "_________________________________________________________________\n",
      "conv2d_10 (Conv2D)           (None, 16, 16, 32)        9248      \n",
      "_________________________________________________________________\n",
      "batch_normalization_10 (Batc (None, 16, 16, 32)        128       \n",
      "_________________________________________________________________\n",
      "activation_10 (Activation)   (None, 16, 16, 32)        0         \n",
      "_________________________________________________________________\n",
      "conv2d_11 (Conv2D)           (None, 16, 16, 32)        9248      \n",
      "_________________________________________________________________\n",
      "batch_normalization_11 (Batc (None, 16, 16, 32)        128       \n",
      "_________________________________________________________________\n",
      "activation_11 (Activation)   (None, 16, 16, 32)        0         \n",
      "_________________________________________________________________\n",
      "conv2d_12 (Conv2D)           (None, 16, 16, 32)        9248      \n",
      "_________________________________________________________________\n",
      "batch_normalization_12 (Batc (None, 16, 16, 32)        128       \n",
      "_________________________________________________________________\n",
      "add_4 (Add)                  (None, 16, 16, 32)        0         \n",
      "_________________________________________________________________\n",
      "activation_12 (Activation)   (None, 16, 16, 32)        0         \n",
      "_________________________________________________________________\n",
      "conv2d_13 (Conv2D)           (None, 8, 8, 64)          18496     \n",
      "_________________________________________________________________\n",
      "batch_normalization_13 (Batc (None, 8, 8, 64)          256       \n",
      "_________________________________________________________________\n",
      "activation_13 (Activation)   (None, 8, 8, 64)          0         \n",
      "_________________________________________________________________\n",
      "conv2d_14 (Conv2D)           (None, 8, 8, 64)          36928     \n",
      "_________________________________________________________________\n",
      "batch_normalization_14 (Batc (None, 8, 8, 64)          256       \n",
      "_________________________________________________________________\n",
      "activation_14 (Activation)   (None, 8, 8, 64)          0         \n",
      "_________________________________________________________________\n",
      "conv2d_15 (Conv2D)           (None, 8, 8, 64)          36928     \n",
      "_________________________________________________________________\n",
      "batch_normalization_15 (Batc (None, 8, 8, 64)          256       \n",
      "_________________________________________________________________\n",
      "add_5 (Add)                  (None, 8, 8, 64)          0         \n",
      "_________________________________________________________________\n",
      "activation_15 (Activation)   (None, 8, 8, 64)          0         \n",
      "_________________________________________________________________\n",
      "conv2d_16 (Conv2D)           (None, 8, 8, 64)          36928     \n",
      "_________________________________________________________________\n",
      "batch_normalization_16 (Batc (None, 8, 8, 64)          256       \n",
      "_________________________________________________________________\n",
      "activation_16 (Activation)   (None, 8, 8, 64)          0         \n",
      "_________________________________________________________________\n",
      "conv2d_17 (Conv2D)           (None, 8, 8, 64)          36928     \n",
      "_________________________________________________________________\n",
      "batch_normalization_17 (Batc (None, 8, 8, 64)          256       \n",
      "_________________________________________________________________\n",
      "activation_17 (Activation)   (None, 8, 8, 64)          0         \n",
      "_________________________________________________________________\n",
      "conv2d_18 (Conv2D)           (None, 8, 8, 64)          36928     \n",
      "_________________________________________________________________\n",
      "batch_normalization_18 (Batc (None, 8, 8, 64)          256       \n",
      "_________________________________________________________________\n",
      "add_6 (Add)                  (None, 8, 8, 64)          0         \n",
      "_________________________________________________________________\n",
      "activation_18 (Activation)   (None, 8, 8, 64)          0         \n",
      "_________________________________________________________________\n",
      "average_pooling2d_1 (Average (None, 4, 4, 64)          0         \n",
      "_________________________________________________________________\n",
      "flatten_1 (Flatten)          (None, 1024)              0         \n",
      "_________________________________________________________________\n",
      "dense_1 (Dense)              (None, 100)               102500    \n",
      "=================================================================\n",
      "Total params: 371,252\n",
      "Trainable params: 369,908\n",
      "Non-trainable params: 1,344\n",
      "_________________________________________________________________\n"
     ]
    }
   ],
   "source": [
    "model = Model(main_input, L4)\n",
    "model.summary()"
   ]
  },
  {
   "cell_type": "code",
   "execution_count": 10,
   "metadata": {},
   "outputs": [],
   "source": [
    "(x_train, y_train), (x_test, y_test) = cifar100.load_data()\n",
    "x_train = x_train.astype('float32')/255\n",
    "x_test = x_test.astype('float32')/255\n",
    "y_train = to_categorical(y_train)\n",
    "y_test = to_categorical(y_test)"
   ]
  },
  {
   "cell_type": "code",
   "execution_count": 11,
   "metadata": {},
   "outputs": [
    {
     "name": "stdout",
     "output_type": "stream",
     "text": [
      "WARNING:tensorflow:From /Library/Frameworks/Python.framework/Versions/3.7/lib/python3.7/site-packages/keras/backend/tensorflow_backend.py:2578: calling reduce_sum_v1 (from tensorflow.python.ops.math_ops) with keep_dims is deprecated and will be removed in a future version.\n",
      "Instructions for updating:\n",
      "keep_dims is deprecated, use keepdims instead\n"
     ]
    }
   ],
   "source": [
    "sgd = optimizers.SGD(lr=0.01, decay=5e-4, momentum=0.9, nesterov=True)\n",
    "model.compile(optimizer=optimizers.Adam(lr=lr_schedule(0)),\n",
    "              loss='categorical_crossentropy',\n",
    "              metrics=['accuracy'])"
   ]
  },
  {
   "cell_type": "code",
   "execution_count": 12,
   "metadata": {},
   "outputs": [],
   "source": [
    "datagen = ImageDataGenerator(\n",
    "        featurewise_center=False,  # set input mean to 0 over the dataset\n",
    "        samplewise_center=False,  # set each sample mean to 0\n",
    "        featurewise_std_normalization=False,  # divide inputs by std of the dataset\n",
    "        samplewise_std_normalization=False,  # divide each input by its std\n",
    "        zca_whitening=False,  # apply ZCA whitening\n",
    "        rotation_range=15,  # randomly rotate images in the range (degrees, 0 to 180)\n",
    "        width_shift_range=0.1,  # randomly shift images horizontally (fraction of total width)\n",
    "        height_shift_range=0.1,  # randomly shift images vertically (fraction of total height)\n",
    "        horizontal_flip=True,  # randomly flip images\n",
    "        vertical_flip=False) # randomly flip images\n",
    "datagen.fit(x_train)"
   ]
  },
  {
   "cell_type": "code",
   "execution_count": 13,
   "metadata": {},
   "outputs": [
    {
     "name": "stdout",
     "output_type": "stream",
     "text": [
      "WARNING:tensorflow:From /Library/Frameworks/Python.framework/Versions/3.7/lib/python3.7/site-packages/tensorflow/python/ops/math_ops.py:3066: to_int32 (from tensorflow.python.ops.math_ops) is deprecated and will be removed in a future version.\n",
      "Instructions for updating:\n",
      "Use tf.cast instead.\n",
      "Epoch 1/250\n",
      "1562/1562 [==============================] - 384s - loss: 3.8348 - acc: 0.1166 - val_loss: 3.4256 - val_acc: 0.1823\n",
      "Epoch 2/250\n",
      "1562/1562 [==============================] - 387s - loss: 3.1036 - acc: 0.2373 - val_loss: 2.8358 - val_acc: 0.2929\n",
      "Epoch 3/250\n",
      "1562/1562 [==============================] - 376s - loss: 2.6952 - acc: 0.3202 - val_loss: 2.5536 - val_acc: 0.3499\n",
      "Epoch 4/250\n",
      "1562/1562 [==============================] - 370s - loss: 2.4136 - acc: 0.3764 - val_loss: 2.2599 - val_acc: 0.4124\n",
      "Epoch 5/250\n",
      "1562/1562 [==============================] - 369s - loss: 2.2139 - acc: 0.4204 - val_loss: 2.1679 - val_acc: 0.4353\n",
      "Epoch 6/250\n",
      "1562/1562 [==============================] - 371s - loss: 2.0725 - acc: 0.4530 - val_loss: 2.1728 - val_acc: 0.4410\n",
      "Epoch 7/250\n",
      "1562/1562 [==============================] - 360s - loss: 1.9519 - acc: 0.4782 - val_loss: 1.9371 - val_acc: 0.4816\n",
      "Epoch 8/250\n",
      "1562/1562 [==============================] - 364s - loss: 1.8543 - acc: 0.4990 - val_loss: 1.7848 - val_acc: 0.5217\n",
      "Epoch 9/250\n",
      "1562/1562 [==============================] - 370s - loss: 1.7732 - acc: 0.5186 - val_loss: 1.7861 - val_acc: 0.5185\n",
      "Epoch 10/250\n",
      "1562/1562 [==============================] - 363s - loss: 1.7060 - acc: 0.5347 - val_loss: 1.7566 - val_acc: 0.5288\n",
      "Epoch 11/250\n",
      "1562/1562 [==============================] - 366s - loss: 1.6493 - acc: 0.5490 - val_loss: 1.7112 - val_acc: 0.5391\n",
      "Epoch 12/250\n",
      "1562/1562 [==============================] - 366s - loss: 1.5878 - acc: 0.5634 - val_loss: 1.6740 - val_acc: 0.5507\n",
      "Epoch 13/250\n",
      "1562/1562 [==============================] - 368s - loss: 1.5508 - acc: 0.5719 - val_loss: 1.6161 - val_acc: 0.5642\n",
      "Epoch 14/250\n",
      "1562/1562 [==============================] - 363s - loss: 1.5161 - acc: 0.5767 - val_loss: 1.7446 - val_acc: 0.5409\n",
      "Epoch 15/250\n",
      "1562/1562 [==============================] - 332s - loss: 1.4695 - acc: 0.5895 - val_loss: 1.6553 - val_acc: 0.5532\n",
      "Epoch 16/250\n",
      "1562/1562 [==============================] - 344s - loss: 1.4387 - acc: 0.5983 - val_loss: 1.5899 - val_acc: 0.5708\n",
      "Epoch 17/250\n",
      "1562/1562 [==============================] - 359s - loss: 1.4084 - acc: 0.6037 - val_loss: 1.6158 - val_acc: 0.5652\n",
      "Epoch 18/250\n",
      "1562/1562 [==============================] - 348s - loss: 1.3700 - acc: 0.6123 - val_loss: 1.6353 - val_acc: 0.5629\n",
      "Epoch 19/250\n",
      "1562/1562 [==============================] - 339s - loss: 1.3476 - acc: 0.6155 - val_loss: 1.5197 - val_acc: 0.5886\n",
      "Epoch 20/250\n",
      "1562/1562 [==============================] - 339s - loss: 1.3283 - acc: 0.6234 - val_loss: 1.5952 - val_acc: 0.5742\n",
      "Epoch 21/250\n",
      "1562/1562 [==============================] - 339s - loss: 1.3013 - acc: 0.6319 - val_loss: 1.5749 - val_acc: 0.5800\n",
      "Epoch 22/250\n",
      "1562/1562 [==============================] - 341s - loss: 1.2748 - acc: 0.6372 - val_loss: 1.5062 - val_acc: 0.5932\n",
      "Epoch 23/250\n",
      "1562/1562 [==============================] - 340s - loss: 1.2588 - acc: 0.6417 - val_loss: 1.5514 - val_acc: 0.5858\n",
      "Epoch 24/250\n",
      "1562/1562 [==============================] - 340s - loss: 1.2456 - acc: 0.6430 - val_loss: 1.5595 - val_acc: 0.5877\n",
      "Epoch 25/250\n",
      "1562/1562 [==============================] - 343s - loss: 1.2253 - acc: 0.6490 - val_loss: 1.5189 - val_acc: 0.5915\n",
      "Epoch 26/250\n",
      "1562/1562 [==============================] - 345s - loss: 1.2036 - acc: 0.6543 - val_loss: 1.5843 - val_acc: 0.5838\n",
      "Epoch 27/250\n",
      "1562/1562 [==============================] - 347s - loss: 1.1926 - acc: 0.6574 - val_loss: 1.5173 - val_acc: 0.5903\n",
      "Epoch 28/250\n",
      "1562/1562 [==============================] - 344s - loss: 1.1746 - acc: 0.6619 - val_loss: 1.5140 - val_acc: 0.6050\n",
      "Epoch 29/250\n",
      "1562/1562 [==============================] - 347s - loss: 1.1661 - acc: 0.6624 - val_loss: 1.5825 - val_acc: 0.5813\n",
      "Epoch 30/250\n",
      "1562/1562 [==============================] - 352s - loss: 1.1482 - acc: 0.6669 - val_loss: 1.5819 - val_acc: 0.5906\n",
      "Epoch 31/250\n",
      "1562/1562 [==============================] - 351s - loss: 1.1243 - acc: 0.6726 - val_loss: 1.4752 - val_acc: 0.6112\n",
      "Epoch 32/250\n",
      "1562/1562 [==============================] - 347s - loss: 1.1254 - acc: 0.6728 - val_loss: 1.4688 - val_acc: 0.6131\n",
      "Epoch 33/250\n",
      "1562/1562 [==============================] - 355s - loss: 1.1081 - acc: 0.6757 - val_loss: 1.6979 - val_acc: 0.5778\n",
      "Epoch 34/250\n",
      "1562/1562 [==============================] - 374s - loss: 1.0906 - acc: 0.6831 - val_loss: 1.5155 - val_acc: 0.6053\n",
      "Epoch 35/250\n",
      "1562/1562 [==============================] - 351s - loss: 1.0805 - acc: 0.6859 - val_loss: 1.5373 - val_acc: 0.6009\n",
      "Epoch 36/250\n",
      "1562/1562 [==============================] - 342s - loss: 1.0719 - acc: 0.6846 - val_loss: 1.5014 - val_acc: 0.6074\n",
      "Epoch 37/250\n",
      "1562/1562 [==============================] - 341s - loss: 1.0597 - acc: 0.6883 - val_loss: 1.4996 - val_acc: 0.6095\n",
      "Epoch 38/250\n",
      "1562/1562 [==============================] - 341s - loss: 1.0478 - acc: 0.6910 - val_loss: 1.5580 - val_acc: 0.5964\n",
      "Epoch 39/250\n",
      "1562/1562 [==============================] - 342s - loss: 1.0427 - acc: 0.6933 - val_loss: 1.4773 - val_acc: 0.6103\n",
      "Epoch 40/250\n",
      "1562/1562 [==============================] - 340s - loss: 1.0308 - acc: 0.6969 - val_loss: 1.5559 - val_acc: 0.6030\n",
      "Epoch 41/250\n",
      "1562/1562 [==============================] - 344s - loss: 1.0213 - acc: 0.6985 - val_loss: 1.5805 - val_acc: 0.5981\n",
      "Epoch 42/250\n",
      "1562/1562 [==============================] - 343s - loss: 1.0221 - acc: 0.6987 - val_loss: 1.5556 - val_acc: 0.6012\n",
      "Epoch 43/250\n",
      "1562/1562 [==============================] - 343s - loss: 1.0062 - acc: 0.7022 - val_loss: 1.5440 - val_acc: 0.6082\n",
      "Epoch 44/250\n",
      "1562/1562 [==============================] - 341s - loss: 1.0000 - acc: 0.7038 - val_loss: 1.5509 - val_acc: 0.6025\n",
      "Epoch 45/250\n",
      "1562/1562 [==============================] - 351s - loss: 0.9885 - acc: 0.7073 - val_loss: 1.5351 - val_acc: 0.6047\n",
      "Epoch 46/250\n",
      "1562/1562 [==============================] - 363s - loss: 0.9787 - acc: 0.7106 - val_loss: 1.5261 - val_acc: 0.6131\n",
      "Epoch 47/250\n",
      "1562/1562 [==============================] - 357s - loss: 0.9738 - acc: 0.7087 - val_loss: 1.5131 - val_acc: 0.6136\n",
      "Epoch 48/250\n",
      "1562/1562 [==============================] - 365s - loss: 0.9668 - acc: 0.7113 - val_loss: 1.5380 - val_acc: 0.6049\n",
      "Epoch 49/250\n",
      "1562/1562 [==============================] - 359s - loss: 0.9559 - acc: 0.7139 - val_loss: 1.5208 - val_acc: 0.6123\n",
      "Epoch 50/250\n",
      "1562/1562 [==============================] - 354s - loss: 0.9511 - acc: 0.7164 - val_loss: 1.4702 - val_acc: 0.6197\n",
      "Epoch 51/250\n",
      "1562/1562 [==============================] - 366s - loss: 0.9396 - acc: 0.7199 - val_loss: 1.5452 - val_acc: 0.6027\n",
      "Epoch 52/250\n",
      "1562/1562 [==============================] - 359s - loss: 0.9389 - acc: 0.7212 - val_loss: 1.5264 - val_acc: 0.6129\n",
      "Epoch 53/250\n",
      "1562/1562 [==============================] - 346s - loss: 0.9360 - acc: 0.7194 - val_loss: 1.5061 - val_acc: 0.6128\n",
      "Epoch 54/250\n",
      "1562/1562 [==============================] - 359s - loss: 0.9168 - acc: 0.7258 - val_loss: 1.5352 - val_acc: 0.6132\n",
      "Epoch 55/250\n",
      "1562/1562 [==============================] - 361s - loss: 0.9168 - acc: 0.7252 - val_loss: 1.5191 - val_acc: 0.6202\n",
      "Epoch 56/250\n",
      "1562/1562 [==============================] - 362s - loss: 0.9129 - acc: 0.7271 - val_loss: 1.5570 - val_acc: 0.6161\n",
      "Epoch 57/250\n",
      "1562/1562 [==============================] - 352s - loss: 0.9083 - acc: 0.7277 - val_loss: 1.5118 - val_acc: 0.6190\n",
      "Epoch 58/250\n",
      "1562/1562 [==============================] - 337s - loss: 0.8977 - acc: 0.7320 - val_loss: 1.4924 - val_acc: 0.6211\n",
      "Epoch 59/250\n",
      "1562/1562 [==============================] - 335s - loss: 0.8946 - acc: 0.7314 - val_loss: 1.5445 - val_acc: 0.6124\n",
      "Epoch 60/250\n",
      "1562/1562 [==============================] - 334s - loss: 0.8870 - acc: 0.7313 - val_loss: 1.5882 - val_acc: 0.6090\n",
      "Epoch 61/250\n",
      "1562/1562 [==============================] - 332s - loss: 0.8773 - acc: 0.7359 - val_loss: 1.5127 - val_acc: 0.6176\n",
      "Epoch 62/250\n"
     ]
    },
    {
     "name": "stdout",
     "output_type": "stream",
     "text": [
      "1562/1562 [==============================] - 333s - loss: 0.8766 - acc: 0.7369 - val_loss: 1.4774 - val_acc: 0.6272\n",
      "Epoch 63/250\n",
      " 938/1562 [=================>............] - ETA: 130s - loss: 0.8489 - acc: 0.7436"
     ]
    },
    {
     "ename": "KeyboardInterrupt",
     "evalue": "",
     "output_type": "error",
     "traceback": [
      "\u001b[0;31m---------------------------------------------------------------------------\u001b[0m",
      "\u001b[0;31mKeyboardInterrupt\u001b[0m                         Traceback (most recent call last)",
      "\u001b[0;32m<ipython-input-13-02ef1a93045c>\u001b[0m in \u001b[0;36m<module>\u001b[0;34m\u001b[0m\n\u001b[1;32m      6\u001b[0m                     \u001b[0mverbose\u001b[0m\u001b[0;34m=\u001b[0m\u001b[0;36m1\u001b[0m\u001b[0;34m,\u001b[0m\u001b[0;34m\u001b[0m\u001b[0;34m\u001b[0m\u001b[0m\n\u001b[1;32m      7\u001b[0m \u001b[0;31m#                     max_queue_size=100,\u001b[0m\u001b[0;34m\u001b[0m\u001b[0;34m\u001b[0m\u001b[0;34m\u001b[0m\u001b[0m\n\u001b[0;32m----> 8\u001b[0;31m                     callbacks=[LearningRateScheduler(lr_schedule), csv_logger])\n\u001b[0m\u001b[1;32m      9\u001b[0m                     \u001b[0;31m# callbacks=[LearningRateScheduler(lr_schedule), early_stopper, csv_logger])\u001b[0m\u001b[0;34m\u001b[0m\u001b[0;34m\u001b[0m\u001b[0;34m\u001b[0m\u001b[0m\n\u001b[1;32m     10\u001b[0m \u001b[0mend_time\u001b[0m \u001b[0;34m=\u001b[0m \u001b[0mtime\u001b[0m\u001b[0;34m.\u001b[0m\u001b[0mtime\u001b[0m\u001b[0;34m(\u001b[0m\u001b[0;34m)\u001b[0m\u001b[0;34m\u001b[0m\u001b[0;34m\u001b[0m\u001b[0m\n",
      "\u001b[0;32m/Library/Frameworks/Python.framework/Versions/3.7/lib/python3.7/site-packages/keras/legacy/interfaces.py\u001b[0m in \u001b[0;36mwrapper\u001b[0;34m(*args, **kwargs)\u001b[0m\n\u001b[1;32m     86\u001b[0m                 warnings.warn('Update your `' + object_name +\n\u001b[1;32m     87\u001b[0m                               '` call to the Keras 2 API: ' + signature, stacklevel=2)\n\u001b[0;32m---> 88\u001b[0;31m             \u001b[0;32mreturn\u001b[0m \u001b[0mfunc\u001b[0m\u001b[0;34m(\u001b[0m\u001b[0;34m*\u001b[0m\u001b[0margs\u001b[0m\u001b[0;34m,\u001b[0m \u001b[0;34m**\u001b[0m\u001b[0mkwargs\u001b[0m\u001b[0;34m)\u001b[0m\u001b[0;34m\u001b[0m\u001b[0;34m\u001b[0m\u001b[0m\n\u001b[0m\u001b[1;32m     89\u001b[0m         \u001b[0mwrapper\u001b[0m\u001b[0;34m.\u001b[0m\u001b[0m_legacy_support_signature\u001b[0m \u001b[0;34m=\u001b[0m \u001b[0minspect\u001b[0m\u001b[0;34m.\u001b[0m\u001b[0mgetargspec\u001b[0m\u001b[0;34m(\u001b[0m\u001b[0mfunc\u001b[0m\u001b[0;34m)\u001b[0m\u001b[0;34m\u001b[0m\u001b[0;34m\u001b[0m\u001b[0m\n\u001b[1;32m     90\u001b[0m         \u001b[0;32mreturn\u001b[0m \u001b[0mwrapper\u001b[0m\u001b[0;34m\u001b[0m\u001b[0;34m\u001b[0m\u001b[0m\n",
      "\u001b[0;32m/Library/Frameworks/Python.framework/Versions/3.7/lib/python3.7/site-packages/keras/engine/training.py\u001b[0m in \u001b[0;36mfit_generator\u001b[0;34m(self, generator, steps_per_epoch, epochs, verbose, callbacks, validation_data, validation_steps, class_weight, max_q_size, workers, pickle_safe, initial_epoch)\u001b[0m\n\u001b[1;32m   1875\u001b[0m                     outs = self.train_on_batch(x, y,\n\u001b[1;32m   1876\u001b[0m                                                \u001b[0msample_weight\u001b[0m\u001b[0;34m=\u001b[0m\u001b[0msample_weight\u001b[0m\u001b[0;34m,\u001b[0m\u001b[0;34m\u001b[0m\u001b[0;34m\u001b[0m\u001b[0m\n\u001b[0;32m-> 1877\u001b[0;31m                                                class_weight=class_weight)\n\u001b[0m\u001b[1;32m   1878\u001b[0m \u001b[0;34m\u001b[0m\u001b[0m\n\u001b[1;32m   1879\u001b[0m                     \u001b[0;32mif\u001b[0m \u001b[0;32mnot\u001b[0m \u001b[0misinstance\u001b[0m\u001b[0;34m(\u001b[0m\u001b[0mouts\u001b[0m\u001b[0;34m,\u001b[0m \u001b[0mlist\u001b[0m\u001b[0;34m)\u001b[0m\u001b[0;34m:\u001b[0m\u001b[0;34m\u001b[0m\u001b[0;34m\u001b[0m\u001b[0m\n",
      "\u001b[0;32m/Library/Frameworks/Python.framework/Versions/3.7/lib/python3.7/site-packages/keras/engine/training.py\u001b[0m in \u001b[0;36mtrain_on_batch\u001b[0;34m(self, x, y, sample_weight, class_weight)\u001b[0m\n\u001b[1;32m   1619\u001b[0m             \u001b[0mins\u001b[0m \u001b[0;34m=\u001b[0m \u001b[0mx\u001b[0m \u001b[0;34m+\u001b[0m \u001b[0my\u001b[0m \u001b[0;34m+\u001b[0m \u001b[0msample_weights\u001b[0m\u001b[0;34m\u001b[0m\u001b[0;34m\u001b[0m\u001b[0m\n\u001b[1;32m   1620\u001b[0m         \u001b[0mself\u001b[0m\u001b[0;34m.\u001b[0m\u001b[0m_make_train_function\u001b[0m\u001b[0;34m(\u001b[0m\u001b[0;34m)\u001b[0m\u001b[0;34m\u001b[0m\u001b[0;34m\u001b[0m\u001b[0m\n\u001b[0;32m-> 1621\u001b[0;31m         \u001b[0moutputs\u001b[0m \u001b[0;34m=\u001b[0m \u001b[0mself\u001b[0m\u001b[0;34m.\u001b[0m\u001b[0mtrain_function\u001b[0m\u001b[0;34m(\u001b[0m\u001b[0mins\u001b[0m\u001b[0;34m)\u001b[0m\u001b[0;34m\u001b[0m\u001b[0;34m\u001b[0m\u001b[0m\n\u001b[0m\u001b[1;32m   1622\u001b[0m         \u001b[0;32mif\u001b[0m \u001b[0mlen\u001b[0m\u001b[0;34m(\u001b[0m\u001b[0moutputs\u001b[0m\u001b[0;34m)\u001b[0m \u001b[0;34m==\u001b[0m \u001b[0;36m1\u001b[0m\u001b[0;34m:\u001b[0m\u001b[0;34m\u001b[0m\u001b[0;34m\u001b[0m\u001b[0m\n\u001b[1;32m   1623\u001b[0m             \u001b[0;32mreturn\u001b[0m \u001b[0moutputs\u001b[0m\u001b[0;34m[\u001b[0m\u001b[0;36m0\u001b[0m\u001b[0;34m]\u001b[0m\u001b[0;34m\u001b[0m\u001b[0;34m\u001b[0m\u001b[0m\n",
      "\u001b[0;32m/Library/Frameworks/Python.framework/Versions/3.7/lib/python3.7/site-packages/keras/backend/tensorflow_backend.py\u001b[0m in \u001b[0;36m__call__\u001b[0;34m(self, inputs)\u001b[0m\n\u001b[1;32m   2101\u001b[0m         \u001b[0msession\u001b[0m \u001b[0;34m=\u001b[0m \u001b[0mget_session\u001b[0m\u001b[0;34m(\u001b[0m\u001b[0;34m)\u001b[0m\u001b[0;34m\u001b[0m\u001b[0;34m\u001b[0m\u001b[0m\n\u001b[1;32m   2102\u001b[0m         updated = session.run(self.outputs + [self.updates_op],\n\u001b[0;32m-> 2103\u001b[0;31m                               feed_dict=feed_dict)\n\u001b[0m\u001b[1;32m   2104\u001b[0m         \u001b[0;32mreturn\u001b[0m \u001b[0mupdated\u001b[0m\u001b[0;34m[\u001b[0m\u001b[0;34m:\u001b[0m\u001b[0mlen\u001b[0m\u001b[0;34m(\u001b[0m\u001b[0mself\u001b[0m\u001b[0;34m.\u001b[0m\u001b[0moutputs\u001b[0m\u001b[0;34m)\u001b[0m\u001b[0;34m]\u001b[0m\u001b[0;34m\u001b[0m\u001b[0;34m\u001b[0m\u001b[0m\n\u001b[1;32m   2105\u001b[0m \u001b[0;34m\u001b[0m\u001b[0m\n",
      "\u001b[0;32m/Library/Frameworks/Python.framework/Versions/3.7/lib/python3.7/site-packages/tensorflow/python/client/session.py\u001b[0m in \u001b[0;36mrun\u001b[0;34m(self, fetches, feed_dict, options, run_metadata)\u001b[0m\n\u001b[1;32m    927\u001b[0m     \u001b[0;32mtry\u001b[0m\u001b[0;34m:\u001b[0m\u001b[0;34m\u001b[0m\u001b[0;34m\u001b[0m\u001b[0m\n\u001b[1;32m    928\u001b[0m       result = self._run(None, fetches, feed_dict, options_ptr,\n\u001b[0;32m--> 929\u001b[0;31m                          run_metadata_ptr)\n\u001b[0m\u001b[1;32m    930\u001b[0m       \u001b[0;32mif\u001b[0m \u001b[0mrun_metadata\u001b[0m\u001b[0;34m:\u001b[0m\u001b[0;34m\u001b[0m\u001b[0;34m\u001b[0m\u001b[0m\n\u001b[1;32m    931\u001b[0m         \u001b[0mproto_data\u001b[0m \u001b[0;34m=\u001b[0m \u001b[0mtf_session\u001b[0m\u001b[0;34m.\u001b[0m\u001b[0mTF_GetBuffer\u001b[0m\u001b[0;34m(\u001b[0m\u001b[0mrun_metadata_ptr\u001b[0m\u001b[0;34m)\u001b[0m\u001b[0;34m\u001b[0m\u001b[0;34m\u001b[0m\u001b[0m\n",
      "\u001b[0;32m/Library/Frameworks/Python.framework/Versions/3.7/lib/python3.7/site-packages/tensorflow/python/client/session.py\u001b[0m in \u001b[0;36m_run\u001b[0;34m(self, handle, fetches, feed_dict, options, run_metadata)\u001b[0m\n\u001b[1;32m   1150\u001b[0m     \u001b[0;32mif\u001b[0m \u001b[0mfinal_fetches\u001b[0m \u001b[0;32mor\u001b[0m \u001b[0mfinal_targets\u001b[0m \u001b[0;32mor\u001b[0m \u001b[0;34m(\u001b[0m\u001b[0mhandle\u001b[0m \u001b[0;32mand\u001b[0m \u001b[0mfeed_dict_tensor\u001b[0m\u001b[0;34m)\u001b[0m\u001b[0;34m:\u001b[0m\u001b[0;34m\u001b[0m\u001b[0;34m\u001b[0m\u001b[0m\n\u001b[1;32m   1151\u001b[0m       results = self._do_run(handle, final_targets, final_fetches,\n\u001b[0;32m-> 1152\u001b[0;31m                              feed_dict_tensor, options, run_metadata)\n\u001b[0m\u001b[1;32m   1153\u001b[0m     \u001b[0;32melse\u001b[0m\u001b[0;34m:\u001b[0m\u001b[0;34m\u001b[0m\u001b[0;34m\u001b[0m\u001b[0m\n\u001b[1;32m   1154\u001b[0m       \u001b[0mresults\u001b[0m \u001b[0;34m=\u001b[0m \u001b[0;34m[\u001b[0m\u001b[0;34m]\u001b[0m\u001b[0;34m\u001b[0m\u001b[0;34m\u001b[0m\u001b[0m\n",
      "\u001b[0;32m/Library/Frameworks/Python.framework/Versions/3.7/lib/python3.7/site-packages/tensorflow/python/client/session.py\u001b[0m in \u001b[0;36m_do_run\u001b[0;34m(self, handle, target_list, fetch_list, feed_dict, options, run_metadata)\u001b[0m\n\u001b[1;32m   1326\u001b[0m     \u001b[0;32mif\u001b[0m \u001b[0mhandle\u001b[0m \u001b[0;32mis\u001b[0m \u001b[0;32mNone\u001b[0m\u001b[0;34m:\u001b[0m\u001b[0;34m\u001b[0m\u001b[0;34m\u001b[0m\u001b[0m\n\u001b[1;32m   1327\u001b[0m       return self._do_call(_run_fn, feeds, fetches, targets, options,\n\u001b[0;32m-> 1328\u001b[0;31m                            run_metadata)\n\u001b[0m\u001b[1;32m   1329\u001b[0m     \u001b[0;32melse\u001b[0m\u001b[0;34m:\u001b[0m\u001b[0;34m\u001b[0m\u001b[0;34m\u001b[0m\u001b[0m\n\u001b[1;32m   1330\u001b[0m       \u001b[0;32mreturn\u001b[0m \u001b[0mself\u001b[0m\u001b[0;34m.\u001b[0m\u001b[0m_do_call\u001b[0m\u001b[0;34m(\u001b[0m\u001b[0m_prun_fn\u001b[0m\u001b[0;34m,\u001b[0m \u001b[0mhandle\u001b[0m\u001b[0;34m,\u001b[0m \u001b[0mfeeds\u001b[0m\u001b[0;34m,\u001b[0m \u001b[0mfetches\u001b[0m\u001b[0;34m)\u001b[0m\u001b[0;34m\u001b[0m\u001b[0;34m\u001b[0m\u001b[0m\n",
      "\u001b[0;32m/Library/Frameworks/Python.framework/Versions/3.7/lib/python3.7/site-packages/tensorflow/python/client/session.py\u001b[0m in \u001b[0;36m_do_call\u001b[0;34m(self, fn, *args)\u001b[0m\n\u001b[1;32m   1332\u001b[0m   \u001b[0;32mdef\u001b[0m \u001b[0m_do_call\u001b[0m\u001b[0;34m(\u001b[0m\u001b[0mself\u001b[0m\u001b[0;34m,\u001b[0m \u001b[0mfn\u001b[0m\u001b[0;34m,\u001b[0m \u001b[0;34m*\u001b[0m\u001b[0margs\u001b[0m\u001b[0;34m)\u001b[0m\u001b[0;34m:\u001b[0m\u001b[0;34m\u001b[0m\u001b[0;34m\u001b[0m\u001b[0m\n\u001b[1;32m   1333\u001b[0m     \u001b[0;32mtry\u001b[0m\u001b[0;34m:\u001b[0m\u001b[0;34m\u001b[0m\u001b[0;34m\u001b[0m\u001b[0m\n\u001b[0;32m-> 1334\u001b[0;31m       \u001b[0;32mreturn\u001b[0m \u001b[0mfn\u001b[0m\u001b[0;34m(\u001b[0m\u001b[0;34m*\u001b[0m\u001b[0margs\u001b[0m\u001b[0;34m)\u001b[0m\u001b[0;34m\u001b[0m\u001b[0;34m\u001b[0m\u001b[0m\n\u001b[0m\u001b[1;32m   1335\u001b[0m     \u001b[0;32mexcept\u001b[0m \u001b[0merrors\u001b[0m\u001b[0;34m.\u001b[0m\u001b[0mOpError\u001b[0m \u001b[0;32mas\u001b[0m \u001b[0me\u001b[0m\u001b[0;34m:\u001b[0m\u001b[0;34m\u001b[0m\u001b[0;34m\u001b[0m\u001b[0m\n\u001b[1;32m   1336\u001b[0m       \u001b[0mmessage\u001b[0m \u001b[0;34m=\u001b[0m \u001b[0mcompat\u001b[0m\u001b[0;34m.\u001b[0m\u001b[0mas_text\u001b[0m\u001b[0;34m(\u001b[0m\u001b[0me\u001b[0m\u001b[0;34m.\u001b[0m\u001b[0mmessage\u001b[0m\u001b[0;34m)\u001b[0m\u001b[0;34m\u001b[0m\u001b[0;34m\u001b[0m\u001b[0m\n",
      "\u001b[0;32m/Library/Frameworks/Python.framework/Versions/3.7/lib/python3.7/site-packages/tensorflow/python/client/session.py\u001b[0m in \u001b[0;36m_run_fn\u001b[0;34m(feed_dict, fetch_list, target_list, options, run_metadata)\u001b[0m\n\u001b[1;32m   1317\u001b[0m       \u001b[0mself\u001b[0m\u001b[0;34m.\u001b[0m\u001b[0m_extend_graph\u001b[0m\u001b[0;34m(\u001b[0m\u001b[0;34m)\u001b[0m\u001b[0;34m\u001b[0m\u001b[0;34m\u001b[0m\u001b[0m\n\u001b[1;32m   1318\u001b[0m       return self._call_tf_sessionrun(\n\u001b[0;32m-> 1319\u001b[0;31m           options, feed_dict, fetch_list, target_list, run_metadata)\n\u001b[0m\u001b[1;32m   1320\u001b[0m \u001b[0;34m\u001b[0m\u001b[0m\n\u001b[1;32m   1321\u001b[0m     \u001b[0;32mdef\u001b[0m \u001b[0m_prun_fn\u001b[0m\u001b[0;34m(\u001b[0m\u001b[0mhandle\u001b[0m\u001b[0;34m,\u001b[0m \u001b[0mfeed_dict\u001b[0m\u001b[0;34m,\u001b[0m \u001b[0mfetch_list\u001b[0m\u001b[0;34m)\u001b[0m\u001b[0;34m:\u001b[0m\u001b[0;34m\u001b[0m\u001b[0;34m\u001b[0m\u001b[0m\n",
      "\u001b[0;32m/Library/Frameworks/Python.framework/Versions/3.7/lib/python3.7/site-packages/tensorflow/python/client/session.py\u001b[0m in \u001b[0;36m_call_tf_sessionrun\u001b[0;34m(self, options, feed_dict, fetch_list, target_list, run_metadata)\u001b[0m\n\u001b[1;32m   1405\u001b[0m     return tf_session.TF_SessionRun_wrapper(\n\u001b[1;32m   1406\u001b[0m         \u001b[0mself\u001b[0m\u001b[0;34m.\u001b[0m\u001b[0m_session\u001b[0m\u001b[0;34m,\u001b[0m \u001b[0moptions\u001b[0m\u001b[0;34m,\u001b[0m \u001b[0mfeed_dict\u001b[0m\u001b[0;34m,\u001b[0m \u001b[0mfetch_list\u001b[0m\u001b[0;34m,\u001b[0m \u001b[0mtarget_list\u001b[0m\u001b[0;34m,\u001b[0m\u001b[0;34m\u001b[0m\u001b[0;34m\u001b[0m\u001b[0m\n\u001b[0;32m-> 1407\u001b[0;31m         run_metadata)\n\u001b[0m\u001b[1;32m   1408\u001b[0m \u001b[0;34m\u001b[0m\u001b[0m\n\u001b[1;32m   1409\u001b[0m   \u001b[0;32mdef\u001b[0m \u001b[0m_call_tf_sessionprun\u001b[0m\u001b[0;34m(\u001b[0m\u001b[0mself\u001b[0m\u001b[0;34m,\u001b[0m \u001b[0mhandle\u001b[0m\u001b[0;34m,\u001b[0m \u001b[0mfeed_dict\u001b[0m\u001b[0;34m,\u001b[0m \u001b[0mfetch_list\u001b[0m\u001b[0;34m)\u001b[0m\u001b[0;34m:\u001b[0m\u001b[0;34m\u001b[0m\u001b[0;34m\u001b[0m\u001b[0m\n",
      "\u001b[0;31mKeyboardInterrupt\u001b[0m: "
     ]
    }
   ],
   "source": [
    "start_time = time.time()\n",
    "model.fit_generator(datagen.flow(x_train, y_train, batch_size=batch_size),\n",
    "                    steps_per_epoch=x_train.shape[0] // batch_size,\n",
    "                    validation_data=(x_test, y_test),\n",
    "                    epochs=nb_epoch,\n",
    "                    verbose=1,\n",
    "                    callbacks=[LearningRateScheduler(lr_schedule), csv_logger])\n",
    "                    # callbacks=[LearningRateScheduler(lr_schedule), early_stopper, csv_logger])\n",
    "end_time = time.time()"
   ]
  },
  {
   "cell_type": "code",
   "execution_count": 14,
   "metadata": {},
   "outputs": [
    {
     "name": "stdout",
     "output_type": "stream",
     "text": [
      " 9984/10000 [============================>.] - ETA: 0s1.5036014530181885 0.6192\n"
     ]
    }
   ],
   "source": [
    "test_loss, test_acc = model.evaluate(x_test, y_test)\n",
    "print(test_loss, test_acc)"
   ]
  }
 ],
 "metadata": {
  "kernelspec": {
   "display_name": "Python 3",
   "language": "python",
   "name": "python3"
  },
  "language_info": {
   "codemirror_mode": {
    "name": "ipython",
    "version": 3
   },
   "file_extension": ".py",
   "mimetype": "text/x-python",
   "name": "python",
   "nbconvert_exporter": "python",
   "pygments_lexer": "ipython3",
   "version": "3.7.2"
  }
 },
 "nbformat": 4,
 "nbformat_minor": 2
}
